{
 "cells": [
  {
   "cell_type": "markdown",
   "metadata": {},
   "source": [
    "# Libraries"
   ]
  },
  {
   "cell_type": "code",
   "execution_count": 1,
   "metadata": {},
   "outputs": [
    {
     "name": "stderr",
     "output_type": "stream",
     "text": [
      "<frozen importlib._bootstrap>:219: RuntimeWarning: numpy.ndarray size changed, may indicate binary incompatibility. Expected 80 from C header, got 96 from PyObject\n"
     ]
    }
   ],
   "source": [
    "import tensorflow as tf\n",
    "from tensorflow.keras import Input, Model\n",
    "from tensorflow.keras.preprocessing.sequence import pad_sequences\n",
    "from tensorflow.keras.preprocessing.text import Tokenizer, tokenizer_from_json\n",
    "from tensorflow.keras.datasets import mnist\n",
    "from tensorflow.keras.models import load_model\n",
    "from tensorflow.keras.layers import Dense, SimpleRNN, GRU, LSTM, Dropout, Masking, Bidirectional, Embedding\n",
    "from tensorflow.keras.utils import plot_model\n",
    "from tensorflow.keras.callbacks import TensorBoard, EarlyStopping\n",
    "\n",
    "import matplotlib.pyplot as plt\n",
    "\n",
    "import os\n",
    "\n",
    "import datetime as dt\n",
    "\n",
    "import seaborn as sns\n",
    "\n",
    "import pandas as pd\n",
    "\n",
    "import sklearn \n",
    "from sklearn.preprocessing import OneHotEncoder, MinMaxScaler\n",
    "from sklearn.metrics import ConfusionMatrixDisplay, classification_report\n",
    "from sklearn.model_selection import train_test_split\n",
    "\n",
    "import numpy as np\n",
    "\n",
    "import pickle\n",
    "\n",
    "import json\n",
    "\n",
    "import re"
   ]
  },
  {
   "cell_type": "markdown",
   "metadata": {},
   "source": [
    "# User-defined functions"
   ]
  },
  {
   "cell_type": "code",
   "execution_count": 2,
   "metadata": {},
   "outputs": [],
   "source": [
    "def create_model(input_shape=(180), n=128, drop_rate=0.2, n_target=2, embedding_dim=64, vocab_size=10000):\n",
    "    input_1 = Input(shape=input_shape)\n",
    "\n",
    "    embedding_1 = Embedding(input_dim=vocab_size, output_dim=embedding_dim)(input_1)\n",
    "    bi_lstm_1 = Bidirectional(LSTM(embedding_dim, return_sequences=True))(embedding_1)\n",
    "    drop_1 = Dropout(drop_rate)(bi_lstm_1)\n",
    "    lstm_2 = LSTM(n)(drop_1)\n",
    "    drop_2 = Dropout(drop_rate)(lstm_2)\n",
    "    dense_1 = Dense(n, activation='relu')(drop_2)\n",
    "    drop_3 = Dropout(drop_rate)(dense_1)\n",
    "\n",
    "    output_1 = Dense(n_target, activation='softmax')(drop_3)\n",
    "\n",
    "    return Model(inputs=input_1, outputs=output_1)\n",
    "\n",
    "\n",
    "def conv(x):\n",
    "    my_dict = {0: 'negative',\n",
    "               1: 'positive'}\n",
    "\n",
    "    return my_dict[x]"
   ]
  },
  {
   "cell_type": "markdown",
   "metadata": {},
   "source": [
    "# Statics"
   ]
  },
  {
   "cell_type": "code",
   "execution_count": 3,
   "metadata": {},
   "outputs": [],
   "source": [
    "time_stamp = dt.datetime.now().strftime('%Y%m%d-%H%M%S')\n",
    "LOG_PATH = os.path.join(os.getcwd(), 'logs', time_stamp)"
   ]
  },
  {
   "cell_type": "markdown",
   "metadata": {},
   "source": [
    "# Load data"
   ]
  },
  {
   "cell_type": "code",
   "execution_count": 4,
   "metadata": {},
   "outputs": [
    {
     "data": {
      "text/html": [
       "<div>\n",
       "<style scoped>\n",
       "    .dataframe tbody tr th:only-of-type {\n",
       "        vertical-align: middle;\n",
       "    }\n",
       "\n",
       "    .dataframe tbody tr th {\n",
       "        vertical-align: top;\n",
       "    }\n",
       "\n",
       "    .dataframe thead th {\n",
       "        text-align: right;\n",
       "    }\n",
       "</style>\n",
       "<table border=\"1\" class=\"dataframe\">\n",
       "  <thead>\n",
       "    <tr style=\"text-align: right;\">\n",
       "      <th></th>\n",
       "      <th>review</th>\n",
       "      <th>sentiment</th>\n",
       "    </tr>\n",
       "  </thead>\n",
       "  <tbody>\n",
       "    <tr>\n",
       "      <th>0</th>\n",
       "      <td>One of the other reviewers has mentioned that ...</td>\n",
       "      <td>positive</td>\n",
       "    </tr>\n",
       "    <tr>\n",
       "      <th>1</th>\n",
       "      <td>A wonderful little production. &lt;br /&gt;&lt;br /&gt;The...</td>\n",
       "      <td>positive</td>\n",
       "    </tr>\n",
       "    <tr>\n",
       "      <th>2</th>\n",
       "      <td>I thought this was a wonderful way to spend ti...</td>\n",
       "      <td>positive</td>\n",
       "    </tr>\n",
       "    <tr>\n",
       "      <th>3</th>\n",
       "      <td>Basically there's a family where a little boy ...</td>\n",
       "      <td>negative</td>\n",
       "    </tr>\n",
       "    <tr>\n",
       "      <th>4</th>\n",
       "      <td>Petter Mattei's \"Love in the Time of Money\" is...</td>\n",
       "      <td>positive</td>\n",
       "    </tr>\n",
       "    <tr>\n",
       "      <th>...</th>\n",
       "      <td>...</td>\n",
       "      <td>...</td>\n",
       "    </tr>\n",
       "    <tr>\n",
       "      <th>49995</th>\n",
       "      <td>I thought this movie did a down right good job...</td>\n",
       "      <td>positive</td>\n",
       "    </tr>\n",
       "    <tr>\n",
       "      <th>49996</th>\n",
       "      <td>Bad plot, bad dialogue, bad acting, idiotic di...</td>\n",
       "      <td>negative</td>\n",
       "    </tr>\n",
       "    <tr>\n",
       "      <th>49997</th>\n",
       "      <td>I am a Catholic taught in parochial elementary...</td>\n",
       "      <td>negative</td>\n",
       "    </tr>\n",
       "    <tr>\n",
       "      <th>49998</th>\n",
       "      <td>I'm going to have to disagree with the previou...</td>\n",
       "      <td>negative</td>\n",
       "    </tr>\n",
       "    <tr>\n",
       "      <th>49999</th>\n",
       "      <td>No one expects the Star Trek movies to be high...</td>\n",
       "      <td>negative</td>\n",
       "    </tr>\n",
       "  </tbody>\n",
       "</table>\n",
       "<p>50000 rows × 2 columns</p>\n",
       "</div>"
      ],
      "text/plain": [
       "                                                  review sentiment\n",
       "0      One of the other reviewers has mentioned that ...  positive\n",
       "1      A wonderful little production. <br /><br />The...  positive\n",
       "2      I thought this was a wonderful way to spend ti...  positive\n",
       "3      Basically there's a family where a little boy ...  negative\n",
       "4      Petter Mattei's \"Love in the Time of Money\" is...  positive\n",
       "...                                                  ...       ...\n",
       "49995  I thought this movie did a down right good job...  positive\n",
       "49996  Bad plot, bad dialogue, bad acting, idiotic di...  negative\n",
       "49997  I am a Catholic taught in parochial elementary...  negative\n",
       "49998  I'm going to have to disagree with the previou...  negative\n",
       "49999  No one expects the Star Trek movies to be high...  negative\n",
       "\n",
       "[50000 rows x 2 columns]"
      ]
     },
     "execution_count": 4,
     "metadata": {},
     "output_type": "execute_result"
    }
   ],
   "source": [
    "DATA_PATH = os.path.join(os.getcwd(), 'data', 'IMDB-Dataset.csv')\n",
    "df = pd.read_csv(DATA_PATH)\n",
    "df"
   ]
  },
  {
   "cell_type": "markdown",
   "metadata": {},
   "source": [
    "# General infos"
   ]
  },
  {
   "cell_type": "code",
   "execution_count": 5,
   "metadata": {},
   "outputs": [
    {
     "name": "stdout",
     "output_type": "stream",
     "text": [
      "<class 'pandas.core.frame.DataFrame'>\n",
      "RangeIndex: 50000 entries, 0 to 49999\n",
      "Data columns (total 2 columns):\n",
      " #   Column     Non-Null Count  Dtype \n",
      "---  ------     --------------  ----- \n",
      " 0   review     50000 non-null  object\n",
      " 1   sentiment  50000 non-null  object\n",
      "dtypes: object(2)\n",
      "memory usage: 781.4+ KB\n"
     ]
    }
   ],
   "source": [
    "df.info()"
   ]
  },
  {
   "cell_type": "markdown",
   "metadata": {},
   "source": [
    "# Uniques values of the sentiment"
   ]
  },
  {
   "cell_type": "code",
   "execution_count": 6,
   "metadata": {},
   "outputs": [
    {
     "data": {
      "text/plain": [
       "array(['positive', 'negative'], dtype=object)"
      ]
     },
     "execution_count": 6,
     "metadata": {},
     "output_type": "execute_result"
    }
   ],
   "source": [
    "df['sentiment'].unique()"
   ]
  },
  {
   "cell_type": "markdown",
   "metadata": {},
   "source": [
    "# Handle duplicates"
   ]
  },
  {
   "cell_type": "markdown",
   "metadata": {},
   "source": [
    "## view how much duplicates"
   ]
  },
  {
   "cell_type": "code",
   "execution_count": 7,
   "metadata": {},
   "outputs": [
    {
     "data": {
      "text/plain": [
       "418"
      ]
     },
     "execution_count": 7,
     "metadata": {},
     "output_type": "execute_result"
    }
   ],
   "source": [
    "df.duplicated().sum()"
   ]
  },
  {
   "cell_type": "markdown",
   "metadata": {},
   "source": [
    "## view the duplicates itself"
   ]
  },
  {
   "cell_type": "code",
   "execution_count": 8,
   "metadata": {},
   "outputs": [
    {
     "data": {
      "text/html": [
       "<div>\n",
       "<style scoped>\n",
       "    .dataframe tbody tr th:only-of-type {\n",
       "        vertical-align: middle;\n",
       "    }\n",
       "\n",
       "    .dataframe tbody tr th {\n",
       "        vertical-align: top;\n",
       "    }\n",
       "\n",
       "    .dataframe thead th {\n",
       "        text-align: right;\n",
       "    }\n",
       "</style>\n",
       "<table border=\"1\" class=\"dataframe\">\n",
       "  <thead>\n",
       "    <tr style=\"text-align: right;\">\n",
       "      <th></th>\n",
       "      <th>review</th>\n",
       "      <th>sentiment</th>\n",
       "    </tr>\n",
       "  </thead>\n",
       "  <tbody>\n",
       "    <tr>\n",
       "      <th>3537</th>\n",
       "      <td>Quite what the producers of this appalling ada...</td>\n",
       "      <td>negative</td>\n",
       "    </tr>\n",
       "    <tr>\n",
       "      <th>3769</th>\n",
       "      <td>My favourite police series of all time turns t...</td>\n",
       "      <td>positive</td>\n",
       "    </tr>\n",
       "    <tr>\n",
       "      <th>4391</th>\n",
       "      <td>Beautiful film, pure Cassavetes style. Gena Ro...</td>\n",
       "      <td>positive</td>\n",
       "    </tr>\n",
       "    <tr>\n",
       "      <th>6352</th>\n",
       "      <td>If you liked the Grinch movie... go watch that...</td>\n",
       "      <td>negative</td>\n",
       "    </tr>\n",
       "    <tr>\n",
       "      <th>6479</th>\n",
       "      <td>I want very much to believe that the above quo...</td>\n",
       "      <td>negative</td>\n",
       "    </tr>\n",
       "    <tr>\n",
       "      <th>...</th>\n",
       "      <td>...</td>\n",
       "      <td>...</td>\n",
       "    </tr>\n",
       "    <tr>\n",
       "      <th>49912</th>\n",
       "      <td>This is an incredible piece of drama and power...</td>\n",
       "      <td>positive</td>\n",
       "    </tr>\n",
       "    <tr>\n",
       "      <th>49950</th>\n",
       "      <td>This was a very brief episode that appeared in...</td>\n",
       "      <td>negative</td>\n",
       "    </tr>\n",
       "    <tr>\n",
       "      <th>49984</th>\n",
       "      <td>Hello it is I Derrick Cannon and I welcome you...</td>\n",
       "      <td>negative</td>\n",
       "    </tr>\n",
       "    <tr>\n",
       "      <th>49986</th>\n",
       "      <td>This movie is a disgrace to the Major League F...</td>\n",
       "      <td>negative</td>\n",
       "    </tr>\n",
       "    <tr>\n",
       "      <th>49991</th>\n",
       "      <td>Les Visiteurs, the first movie about the medie...</td>\n",
       "      <td>negative</td>\n",
       "    </tr>\n",
       "  </tbody>\n",
       "</table>\n",
       "<p>418 rows × 2 columns</p>\n",
       "</div>"
      ],
      "text/plain": [
       "                                                  review sentiment\n",
       "3537   Quite what the producers of this appalling ada...  negative\n",
       "3769   My favourite police series of all time turns t...  positive\n",
       "4391   Beautiful film, pure Cassavetes style. Gena Ro...  positive\n",
       "6352   If you liked the Grinch movie... go watch that...  negative\n",
       "6479   I want very much to believe that the above quo...  negative\n",
       "...                                                  ...       ...\n",
       "49912  This is an incredible piece of drama and power...  positive\n",
       "49950  This was a very brief episode that appeared in...  negative\n",
       "49984  Hello it is I Derrick Cannon and I welcome you...  negative\n",
       "49986  This movie is a disgrace to the Major League F...  negative\n",
       "49991  Les Visiteurs, the first movie about the medie...  negative\n",
       "\n",
       "[418 rows x 2 columns]"
      ]
     },
     "execution_count": 8,
     "metadata": {},
     "output_type": "execute_result"
    }
   ],
   "source": [
    "df[df.duplicated()]"
   ]
  },
  {
   "cell_type": "markdown",
   "metadata": {},
   "source": [
    "## drop/remove duplicates"
   ]
  },
  {
   "cell_type": "code",
   "execution_count": 9,
   "metadata": {},
   "outputs": [
    {
     "data": {
      "text/html": [
       "<div>\n",
       "<style scoped>\n",
       "    .dataframe tbody tr th:only-of-type {\n",
       "        vertical-align: middle;\n",
       "    }\n",
       "\n",
       "    .dataframe tbody tr th {\n",
       "        vertical-align: top;\n",
       "    }\n",
       "\n",
       "    .dataframe thead th {\n",
       "        text-align: right;\n",
       "    }\n",
       "</style>\n",
       "<table border=\"1\" class=\"dataframe\">\n",
       "  <thead>\n",
       "    <tr style=\"text-align: right;\">\n",
       "      <th></th>\n",
       "      <th>review</th>\n",
       "      <th>sentiment</th>\n",
       "    </tr>\n",
       "  </thead>\n",
       "  <tbody>\n",
       "    <tr>\n",
       "      <th>0</th>\n",
       "      <td>One of the other reviewers has mentioned that ...</td>\n",
       "      <td>positive</td>\n",
       "    </tr>\n",
       "    <tr>\n",
       "      <th>1</th>\n",
       "      <td>A wonderful little production. &lt;br /&gt;&lt;br /&gt;The...</td>\n",
       "      <td>positive</td>\n",
       "    </tr>\n",
       "    <tr>\n",
       "      <th>2</th>\n",
       "      <td>I thought this was a wonderful way to spend ti...</td>\n",
       "      <td>positive</td>\n",
       "    </tr>\n",
       "    <tr>\n",
       "      <th>3</th>\n",
       "      <td>Basically there's a family where a little boy ...</td>\n",
       "      <td>negative</td>\n",
       "    </tr>\n",
       "    <tr>\n",
       "      <th>4</th>\n",
       "      <td>Petter Mattei's \"Love in the Time of Money\" is...</td>\n",
       "      <td>positive</td>\n",
       "    </tr>\n",
       "    <tr>\n",
       "      <th>...</th>\n",
       "      <td>...</td>\n",
       "      <td>...</td>\n",
       "    </tr>\n",
       "    <tr>\n",
       "      <th>49577</th>\n",
       "      <td>I thought this movie did a down right good job...</td>\n",
       "      <td>positive</td>\n",
       "    </tr>\n",
       "    <tr>\n",
       "      <th>49578</th>\n",
       "      <td>Bad plot, bad dialogue, bad acting, idiotic di...</td>\n",
       "      <td>negative</td>\n",
       "    </tr>\n",
       "    <tr>\n",
       "      <th>49579</th>\n",
       "      <td>I am a Catholic taught in parochial elementary...</td>\n",
       "      <td>negative</td>\n",
       "    </tr>\n",
       "    <tr>\n",
       "      <th>49580</th>\n",
       "      <td>I'm going to have to disagree with the previou...</td>\n",
       "      <td>negative</td>\n",
       "    </tr>\n",
       "    <tr>\n",
       "      <th>49581</th>\n",
       "      <td>No one expects the Star Trek movies to be high...</td>\n",
       "      <td>negative</td>\n",
       "    </tr>\n",
       "  </tbody>\n",
       "</table>\n",
       "<p>49582 rows × 2 columns</p>\n",
       "</div>"
      ],
      "text/plain": [
       "                                                  review sentiment\n",
       "0      One of the other reviewers has mentioned that ...  positive\n",
       "1      A wonderful little production. <br /><br />The...  positive\n",
       "2      I thought this was a wonderful way to spend ti...  positive\n",
       "3      Basically there's a family where a little boy ...  negative\n",
       "4      Petter Mattei's \"Love in the Time of Money\" is...  positive\n",
       "...                                                  ...       ...\n",
       "49577  I thought this movie did a down right good job...  positive\n",
       "49578  Bad plot, bad dialogue, bad acting, idiotic di...  negative\n",
       "49579  I am a Catholic taught in parochial elementary...  negative\n",
       "49580  I'm going to have to disagree with the previou...  negative\n",
       "49581  No one expects the Star Trek movies to be high...  negative\n",
       "\n",
       "[49582 rows x 2 columns]"
      ]
     },
     "execution_count": 9,
     "metadata": {},
     "output_type": "execute_result"
    }
   ],
   "source": [
    "df = df.drop_duplicates(ignore_index=True)\n",
    "df"
   ]
  },
  {
   "cell_type": "markdown",
   "metadata": {},
   "source": [
    "# Wrangle the text review strings"
   ]
  },
  {
   "cell_type": "markdown",
   "metadata": {},
   "source": [
    "## general look"
   ]
  },
  {
   "cell_type": "code",
   "execution_count": 10,
   "metadata": {},
   "outputs": [
    {
     "data": {
      "text/plain": [
       "0        One of the other reviewers has mentioned that ...\n",
       "1        A wonderful little production. <br /><br />The...\n",
       "2        I thought this was a wonderful way to spend ti...\n",
       "3        Basically there's a family where a little boy ...\n",
       "4        Petter Mattei's \"Love in the Time of Money\" is...\n",
       "                               ...                        \n",
       "49577    I thought this movie did a down right good job...\n",
       "49578    Bad plot, bad dialogue, bad acting, idiotic di...\n",
       "49579    I am a Catholic taught in parochial elementary...\n",
       "49580    I'm going to have to disagree with the previou...\n",
       "49581    No one expects the Star Trek movies to be high...\n",
       "Name: review, Length: 49582, dtype: object"
      ]
     },
     "execution_count": 10,
     "metadata": {},
     "output_type": "execute_result"
    }
   ],
   "source": [
    "df['review']"
   ]
  },
  {
   "cell_type": "markdown",
   "metadata": {},
   "source": [
    "## remove all HTML tags"
   ]
  },
  {
   "cell_type": "code",
   "execution_count": 11,
   "metadata": {},
   "outputs": [
    {
     "name": "stderr",
     "output_type": "stream",
     "text": [
      "C:\\Users\\rhmnnmhmd\\AppData\\Local\\Temp\\ipykernel_5404\\2787184464.py:1: FutureWarning: The default value of regex will change from True to False in a future version.\n",
      "  df['review'] = df['review'].str.replace('<.*?>', ' ')\n",
      "C:\\Users\\rhmnnmhmd\\AppData\\Local\\Temp\\ipykernel_5404\\2787184464.py:1: SettingWithCopyWarning: \n",
      "A value is trying to be set on a copy of a slice from a DataFrame.\n",
      "Try using .loc[row_indexer,col_indexer] = value instead\n",
      "\n",
      "See the caveats in the documentation: https://pandas.pydata.org/pandas-docs/stable/user_guide/indexing.html#returning-a-view-versus-a-copy\n",
      "  df['review'] = df['review'].str.replace('<.*?>', ' ')\n"
     ]
    },
    {
     "data": {
      "text/html": [
       "<div>\n",
       "<style scoped>\n",
       "    .dataframe tbody tr th:only-of-type {\n",
       "        vertical-align: middle;\n",
       "    }\n",
       "\n",
       "    .dataframe tbody tr th {\n",
       "        vertical-align: top;\n",
       "    }\n",
       "\n",
       "    .dataframe thead th {\n",
       "        text-align: right;\n",
       "    }\n",
       "</style>\n",
       "<table border=\"1\" class=\"dataframe\">\n",
       "  <thead>\n",
       "    <tr style=\"text-align: right;\">\n",
       "      <th></th>\n",
       "      <th>review</th>\n",
       "      <th>sentiment</th>\n",
       "    </tr>\n",
       "  </thead>\n",
       "  <tbody>\n",
       "    <tr>\n",
       "      <th>0</th>\n",
       "      <td>One of the other reviewers has mentioned that ...</td>\n",
       "      <td>positive</td>\n",
       "    </tr>\n",
       "    <tr>\n",
       "      <th>1</th>\n",
       "      <td>A wonderful little production.   The filming t...</td>\n",
       "      <td>positive</td>\n",
       "    </tr>\n",
       "    <tr>\n",
       "      <th>2</th>\n",
       "      <td>I thought this was a wonderful way to spend ti...</td>\n",
       "      <td>positive</td>\n",
       "    </tr>\n",
       "    <tr>\n",
       "      <th>3</th>\n",
       "      <td>Basically there's a family where a little boy ...</td>\n",
       "      <td>negative</td>\n",
       "    </tr>\n",
       "    <tr>\n",
       "      <th>4</th>\n",
       "      <td>Petter Mattei's \"Love in the Time of Money\" is...</td>\n",
       "      <td>positive</td>\n",
       "    </tr>\n",
       "    <tr>\n",
       "      <th>...</th>\n",
       "      <td>...</td>\n",
       "      <td>...</td>\n",
       "    </tr>\n",
       "    <tr>\n",
       "      <th>49577</th>\n",
       "      <td>I thought this movie did a down right good job...</td>\n",
       "      <td>positive</td>\n",
       "    </tr>\n",
       "    <tr>\n",
       "      <th>49578</th>\n",
       "      <td>Bad plot, bad dialogue, bad acting, idiotic di...</td>\n",
       "      <td>negative</td>\n",
       "    </tr>\n",
       "    <tr>\n",
       "      <th>49579</th>\n",
       "      <td>I am a Catholic taught in parochial elementary...</td>\n",
       "      <td>negative</td>\n",
       "    </tr>\n",
       "    <tr>\n",
       "      <th>49580</th>\n",
       "      <td>I'm going to have to disagree with the previou...</td>\n",
       "      <td>negative</td>\n",
       "    </tr>\n",
       "    <tr>\n",
       "      <th>49581</th>\n",
       "      <td>No one expects the Star Trek movies to be high...</td>\n",
       "      <td>negative</td>\n",
       "    </tr>\n",
       "  </tbody>\n",
       "</table>\n",
       "<p>49582 rows × 2 columns</p>\n",
       "</div>"
      ],
      "text/plain": [
       "                                                  review sentiment\n",
       "0      One of the other reviewers has mentioned that ...  positive\n",
       "1      A wonderful little production.   The filming t...  positive\n",
       "2      I thought this was a wonderful way to spend ti...  positive\n",
       "3      Basically there's a family where a little boy ...  negative\n",
       "4      Petter Mattei's \"Love in the Time of Money\" is...  positive\n",
       "...                                                  ...       ...\n",
       "49577  I thought this movie did a down right good job...  positive\n",
       "49578  Bad plot, bad dialogue, bad acting, idiotic di...  negative\n",
       "49579  I am a Catholic taught in parochial elementary...  negative\n",
       "49580  I'm going to have to disagree with the previou...  negative\n",
       "49581  No one expects the Star Trek movies to be high...  negative\n",
       "\n",
       "[49582 rows x 2 columns]"
      ]
     },
     "execution_count": 11,
     "metadata": {},
     "output_type": "execute_result"
    }
   ],
   "source": [
    "df['review'] = df['review'].str.replace('<.*?>', ' ')\n",
    "df"
   ]
  },
  {
   "cell_type": "markdown",
   "metadata": {},
   "source": [
    "## remove non-aphabetical characters"
   ]
  },
  {
   "cell_type": "code",
   "execution_count": 12,
   "metadata": {},
   "outputs": [
    {
     "name": "stderr",
     "output_type": "stream",
     "text": [
      "C:\\Users\\rhmnnmhmd\\AppData\\Local\\Temp\\ipykernel_5404\\2206521798.py:1: FutureWarning: The default value of regex will change from True to False in a future version.\n",
      "  df['review'] = df['review'].str.replace('[^a-zA-Z]', ' ')\n",
      "C:\\Users\\rhmnnmhmd\\AppData\\Local\\Temp\\ipykernel_5404\\2206521798.py:1: SettingWithCopyWarning: \n",
      "A value is trying to be set on a copy of a slice from a DataFrame.\n",
      "Try using .loc[row_indexer,col_indexer] = value instead\n",
      "\n",
      "See the caveats in the documentation: https://pandas.pydata.org/pandas-docs/stable/user_guide/indexing.html#returning-a-view-versus-a-copy\n",
      "  df['review'] = df['review'].str.replace('[^a-zA-Z]', ' ')\n"
     ]
    },
    {
     "data": {
      "text/html": [
       "<div>\n",
       "<style scoped>\n",
       "    .dataframe tbody tr th:only-of-type {\n",
       "        vertical-align: middle;\n",
       "    }\n",
       "\n",
       "    .dataframe tbody tr th {\n",
       "        vertical-align: top;\n",
       "    }\n",
       "\n",
       "    .dataframe thead th {\n",
       "        text-align: right;\n",
       "    }\n",
       "</style>\n",
       "<table border=\"1\" class=\"dataframe\">\n",
       "  <thead>\n",
       "    <tr style=\"text-align: right;\">\n",
       "      <th></th>\n",
       "      <th>review</th>\n",
       "      <th>sentiment</th>\n",
       "    </tr>\n",
       "  </thead>\n",
       "  <tbody>\n",
       "    <tr>\n",
       "      <th>0</th>\n",
       "      <td>One of the other reviewers has mentioned that ...</td>\n",
       "      <td>positive</td>\n",
       "    </tr>\n",
       "    <tr>\n",
       "      <th>1</th>\n",
       "      <td>A wonderful little production    The filming t...</td>\n",
       "      <td>positive</td>\n",
       "    </tr>\n",
       "    <tr>\n",
       "      <th>2</th>\n",
       "      <td>I thought this was a wonderful way to spend ti...</td>\n",
       "      <td>positive</td>\n",
       "    </tr>\n",
       "    <tr>\n",
       "      <th>3</th>\n",
       "      <td>Basically there s a family where a little boy ...</td>\n",
       "      <td>negative</td>\n",
       "    </tr>\n",
       "    <tr>\n",
       "      <th>4</th>\n",
       "      <td>Petter Mattei s  Love in the Time of Money  is...</td>\n",
       "      <td>positive</td>\n",
       "    </tr>\n",
       "    <tr>\n",
       "      <th>...</th>\n",
       "      <td>...</td>\n",
       "      <td>...</td>\n",
       "    </tr>\n",
       "    <tr>\n",
       "      <th>49577</th>\n",
       "      <td>I thought this movie did a down right good job...</td>\n",
       "      <td>positive</td>\n",
       "    </tr>\n",
       "    <tr>\n",
       "      <th>49578</th>\n",
       "      <td>Bad plot  bad dialogue  bad acting  idiotic di...</td>\n",
       "      <td>negative</td>\n",
       "    </tr>\n",
       "    <tr>\n",
       "      <th>49579</th>\n",
       "      <td>I am a Catholic taught in parochial elementary...</td>\n",
       "      <td>negative</td>\n",
       "    </tr>\n",
       "    <tr>\n",
       "      <th>49580</th>\n",
       "      <td>I m going to have to disagree with the previou...</td>\n",
       "      <td>negative</td>\n",
       "    </tr>\n",
       "    <tr>\n",
       "      <th>49581</th>\n",
       "      <td>No one expects the Star Trek movies to be high...</td>\n",
       "      <td>negative</td>\n",
       "    </tr>\n",
       "  </tbody>\n",
       "</table>\n",
       "<p>49582 rows × 2 columns</p>\n",
       "</div>"
      ],
      "text/plain": [
       "                                                  review sentiment\n",
       "0      One of the other reviewers has mentioned that ...  positive\n",
       "1      A wonderful little production    The filming t...  positive\n",
       "2      I thought this was a wonderful way to spend ti...  positive\n",
       "3      Basically there s a family where a little boy ...  negative\n",
       "4      Petter Mattei s  Love in the Time of Money  is...  positive\n",
       "...                                                  ...       ...\n",
       "49577  I thought this movie did a down right good job...  positive\n",
       "49578  Bad plot  bad dialogue  bad acting  idiotic di...  negative\n",
       "49579  I am a Catholic taught in parochial elementary...  negative\n",
       "49580  I m going to have to disagree with the previou...  negative\n",
       "49581  No one expects the Star Trek movies to be high...  negative\n",
       "\n",
       "[49582 rows x 2 columns]"
      ]
     },
     "execution_count": 12,
     "metadata": {},
     "output_type": "execute_result"
    }
   ],
   "source": [
    "df['review'] = df['review'].str.replace('[^a-zA-Z]', ' ')\n",
    "df"
   ]
  },
  {
   "cell_type": "markdown",
   "metadata": {},
   "source": [
    "## lowercase all reviews"
   ]
  },
  {
   "cell_type": "code",
   "execution_count": 13,
   "metadata": {},
   "outputs": [
    {
     "name": "stderr",
     "output_type": "stream",
     "text": [
      "C:\\Users\\rhmnnmhmd\\AppData\\Local\\Temp\\ipykernel_5404\\2891927258.py:1: SettingWithCopyWarning: \n",
      "A value is trying to be set on a copy of a slice from a DataFrame.\n",
      "Try using .loc[row_indexer,col_indexer] = value instead\n",
      "\n",
      "See the caveats in the documentation: https://pandas.pydata.org/pandas-docs/stable/user_guide/indexing.html#returning-a-view-versus-a-copy\n",
      "  df['review'] = df['review'].str.lower()\n"
     ]
    },
    {
     "data": {
      "text/html": [
       "<div>\n",
       "<style scoped>\n",
       "    .dataframe tbody tr th:only-of-type {\n",
       "        vertical-align: middle;\n",
       "    }\n",
       "\n",
       "    .dataframe tbody tr th {\n",
       "        vertical-align: top;\n",
       "    }\n",
       "\n",
       "    .dataframe thead th {\n",
       "        text-align: right;\n",
       "    }\n",
       "</style>\n",
       "<table border=\"1\" class=\"dataframe\">\n",
       "  <thead>\n",
       "    <tr style=\"text-align: right;\">\n",
       "      <th></th>\n",
       "      <th>review</th>\n",
       "      <th>sentiment</th>\n",
       "    </tr>\n",
       "  </thead>\n",
       "  <tbody>\n",
       "    <tr>\n",
       "      <th>0</th>\n",
       "      <td>one of the other reviewers has mentioned that ...</td>\n",
       "      <td>positive</td>\n",
       "    </tr>\n",
       "    <tr>\n",
       "      <th>1</th>\n",
       "      <td>a wonderful little production    the filming t...</td>\n",
       "      <td>positive</td>\n",
       "    </tr>\n",
       "    <tr>\n",
       "      <th>2</th>\n",
       "      <td>i thought this was a wonderful way to spend ti...</td>\n",
       "      <td>positive</td>\n",
       "    </tr>\n",
       "    <tr>\n",
       "      <th>3</th>\n",
       "      <td>basically there s a family where a little boy ...</td>\n",
       "      <td>negative</td>\n",
       "    </tr>\n",
       "    <tr>\n",
       "      <th>4</th>\n",
       "      <td>petter mattei s  love in the time of money  is...</td>\n",
       "      <td>positive</td>\n",
       "    </tr>\n",
       "    <tr>\n",
       "      <th>...</th>\n",
       "      <td>...</td>\n",
       "      <td>...</td>\n",
       "    </tr>\n",
       "    <tr>\n",
       "      <th>49577</th>\n",
       "      <td>i thought this movie did a down right good job...</td>\n",
       "      <td>positive</td>\n",
       "    </tr>\n",
       "    <tr>\n",
       "      <th>49578</th>\n",
       "      <td>bad plot  bad dialogue  bad acting  idiotic di...</td>\n",
       "      <td>negative</td>\n",
       "    </tr>\n",
       "    <tr>\n",
       "      <th>49579</th>\n",
       "      <td>i am a catholic taught in parochial elementary...</td>\n",
       "      <td>negative</td>\n",
       "    </tr>\n",
       "    <tr>\n",
       "      <th>49580</th>\n",
       "      <td>i m going to have to disagree with the previou...</td>\n",
       "      <td>negative</td>\n",
       "    </tr>\n",
       "    <tr>\n",
       "      <th>49581</th>\n",
       "      <td>no one expects the star trek movies to be high...</td>\n",
       "      <td>negative</td>\n",
       "    </tr>\n",
       "  </tbody>\n",
       "</table>\n",
       "<p>49582 rows × 2 columns</p>\n",
       "</div>"
      ],
      "text/plain": [
       "                                                  review sentiment\n",
       "0      one of the other reviewers has mentioned that ...  positive\n",
       "1      a wonderful little production    the filming t...  positive\n",
       "2      i thought this was a wonderful way to spend ti...  positive\n",
       "3      basically there s a family where a little boy ...  negative\n",
       "4      petter mattei s  love in the time of money  is...  positive\n",
       "...                                                  ...       ...\n",
       "49577  i thought this movie did a down right good job...  positive\n",
       "49578  bad plot  bad dialogue  bad acting  idiotic di...  negative\n",
       "49579  i am a catholic taught in parochial elementary...  negative\n",
       "49580  i m going to have to disagree with the previou...  negative\n",
       "49581  no one expects the star trek movies to be high...  negative\n",
       "\n",
       "[49582 rows x 2 columns]"
      ]
     },
     "execution_count": 13,
     "metadata": {},
     "output_type": "execute_result"
    }
   ],
   "source": [
    "df['review'] = df['review'].str.lower()\n",
    "df"
   ]
  },
  {
   "cell_type": "markdown",
   "metadata": {},
   "source": [
    "# Creating and handling the feature input "
   ]
  },
  {
   "cell_type": "code",
   "execution_count": 14,
   "metadata": {},
   "outputs": [
    {
     "data": {
      "text/plain": [
       "0        one of the other reviewers has mentioned that ...\n",
       "1        a wonderful little production    the filming t...\n",
       "2        i thought this was a wonderful way to spend ti...\n",
       "3        basically there s a family where a little boy ...\n",
       "4        petter mattei s  love in the time of money  is...\n",
       "                               ...                        \n",
       "49577    i thought this movie did a down right good job...\n",
       "49578    bad plot  bad dialogue  bad acting  idiotic di...\n",
       "49579    i am a catholic taught in parochial elementary...\n",
       "49580    i m going to have to disagree with the previou...\n",
       "49581    no one expects the star trek movies to be high...\n",
       "Name: review, Length: 49582, dtype: object"
      ]
     },
     "execution_count": 14,
     "metadata": {},
     "output_type": "execute_result"
    }
   ],
   "source": [
    "reviews = df['review']\n",
    "reviews"
   ]
  },
  {
   "cell_type": "markdown",
   "metadata": {},
   "source": [
    "## find the number of words in each review"
   ]
  },
  {
   "cell_type": "code",
   "execution_count": 17,
   "metadata": {},
   "outputs": [
    {
     "data": {
      "text/plain": [
       "0        313\n",
       "1        160\n",
       "2        167\n",
       "3        133\n",
       "4        228\n",
       "        ... \n",
       "49577    198\n",
       "49578    111\n",
       "49579    236\n",
       "49580    216\n",
       "49581    127\n",
       "Name: review, Length: 49582, dtype: int64"
      ]
     },
     "execution_count": 17,
     "metadata": {},
     "output_type": "execute_result"
    }
   ],
   "source": [
    "reviews.apply(lambda x: len(x.split()))"
   ]
  },
  {
   "cell_type": "markdown",
   "metadata": {},
   "source": [
    "## boxplot of the number of words"
   ]
  },
  {
   "cell_type": "code",
   "execution_count": 18,
   "metadata": {},
   "outputs": [
    {
     "data": {
      "text/plain": [
       "<AxesSubplot:>"
      ]
     },
     "execution_count": 18,
     "metadata": {},
     "output_type": "execute_result"
    },
    {
     "data": {
      "image/png": "[encoded data removed]",
      "text/plain": [
       "<Figure size 432x288 with 1 Axes>"
      ]
     },
     "metadata": {
      "needs_background": "light"
     },
     "output_type": "display_data"
    }
   ],
   "source": [
    "reviews.apply(lambda x: len(x.split())).plot.box(vert=False)"
   ]
  },
  {
   "cell_type": "markdown",
   "metadata": {},
   "source": [
    "## find the median/mean/mode/max/min number of words in each review"
   ]
  },
  {
   "cell_type": "code",
   "execution_count": 19,
   "metadata": {},
   "outputs": [
    {
     "data": {
      "text/plain": [
       "176.0"
      ]
     },
     "execution_count": 19,
     "metadata": {},
     "output_type": "execute_result"
    }
   ],
   "source": [
    "reviews.apply(lambda x: len(x.split())).median()"
   ]
  },
  {
   "cell_type": "code",
   "execution_count": 20,
   "metadata": {},
   "outputs": [
    {
     "data": {
      "text/plain": [
       "234.38372796579404"
      ]
     },
     "execution_count": 20,
     "metadata": {},
     "output_type": "execute_result"
    }
   ],
   "source": [
    "reviews.apply(lambda x: len(x.split())).mean()"
   ]
  },
  {
   "cell_type": "code",
   "execution_count": 21,
   "metadata": {},
   "outputs": [
    {
     "data": {
      "text/plain": [
       "0    131\n",
       "Name: review, dtype: int64"
      ]
     },
     "execution_count": 21,
     "metadata": {},
     "output_type": "execute_result"
    }
   ],
   "source": [
    "reviews.apply(lambda x: len(x.split())).mode()"
   ]
  },
  {
   "cell_type": "code",
   "execution_count": 22,
   "metadata": {},
   "outputs": [
    {
     "data": {
      "text/plain": [
       "2494"
      ]
     },
     "execution_count": 22,
     "metadata": {},
     "output_type": "execute_result"
    }
   ],
   "source": [
    "reviews.apply(lambda x: len(x.split())).max()"
   ]
  },
  {
   "cell_type": "code",
   "execution_count": 23,
   "metadata": {},
   "outputs": [
    {
     "data": {
      "text/plain": [
       "6"
      ]
     },
     "execution_count": 23,
     "metadata": {},
     "output_type": "execute_result"
    }
   ],
   "source": [
    "reviews.apply(lambda x: len(x.split())).min()"
   ]
  },
  {
   "cell_type": "markdown",
   "metadata": {},
   "source": [
    "## tokenizing"
   ]
  },
  {
   "cell_type": "code",
   "execution_count": 24,
   "metadata": {},
   "outputs": [],
   "source": [
    "vocab_size = 10000\n",
    "oov_token = '<OOV>'\n",
    "tokenizer = Tokenizer(num_words=vocab_size, oov_token=oov_token)\n",
    "tokenizer.fit_on_texts(reviews)"
   ]
  },
  {
   "cell_type": "markdown",
   "metadata": {},
   "source": [
    "### save tokenizer"
   ]
  },
  {
   "cell_type": "code",
   "execution_count": 59,
   "metadata": {},
   "outputs": [],
   "source": [
    "TOKENIZER_PATH = os.path.join(os.getcwd(), 'model', 'tokenizer.json')\n",
    "tokenizer_json = tokenizer.to_json()\n",
    "\n",
    "with open(TOKENIZER_PATH, 'wb') as f:\n",
    "    pickle.dump(tokenizer_json, f)"
   ]
  },
  {
   "cell_type": "markdown",
   "metadata": {},
   "source": [
    "## show the word index"
   ]
  },
  {
   "cell_type": "code",
   "execution_count": 29,
   "metadata": {},
   "outputs": [
    {
     "data": {
      "text/plain": [
       "{'<OOV>': 1,\n",
       " 'the': 2,\n",
       " 'and': 3,\n",
       " 'a': 4,\n",
       " 'of': 5,\n",
       " 'to': 6,\n",
       " 'is': 7,\n",
       " 'it': 8,\n",
       " 'in': 9,\n",
       " 'i': 10,\n",
       " 'this': 11,\n",
       " 'that': 12,\n",
       " 's': 13,\n",
       " 'was': 14,\n",
       " 'as': 15,\n",
       " 'movie': 16,\n",
       " 'for': 17,\n",
       " 'with': 18,\n",
       " 'but': 19,\n",
       " 'film': 20,\n",
       " 'you': 21,\n",
       " 't': 22,\n",
       " 'on': 23,\n",
       " 'not': 24,\n",
       " 'he': 25,\n",
       " 'are': 26,\n",
       " 'his': 27,\n",
       " 'have': 28,\n",
       " 'one': 29,\n",
       " 'be': 30,\n",
       " 'all': 31,\n",
       " 'at': 32,\n",
       " 'they': 33,\n",
       " 'by': 34,\n",
       " 'an': 35,\n",
       " 'who': 36,\n",
       " 'so': 37,\n",
       " 'from': 38,\n",
       " 'like': 39,\n",
       " 'there': 40,\n",
       " 'or': 41,\n",
       " 'just': 42,\n",
       " 'her': 43,\n",
       " 'out': 44,\n",
       " 'about': 45,\n",
       " 'if': 46,\n",
       " 'has': 47,\n",
       " 'what': 48,\n",
       " 'some': 49,\n",
       " 'good': 50,\n",
       " 'can': 51,\n",
       " 'when': 52,\n",
       " 'more': 53,\n",
       " 'very': 54,\n",
       " 'she': 55,\n",
       " 'up': 56,\n",
       " 'no': 57,\n",
       " 'time': 58,\n",
       " 'my': 59,\n",
       " 'even': 60,\n",
       " 'would': 61,\n",
       " 'which': 62,\n",
       " 'only': 63,\n",
       " 'story': 64,\n",
       " 'really': 65,\n",
       " 'see': 66,\n",
       " 'their': 67,\n",
       " 'had': 68,\n",
       " 'me': 69,\n",
       " 'well': 70,\n",
       " 'we': 71,\n",
       " 'were': 72,\n",
       " 'than': 73,\n",
       " 'much': 74,\n",
       " 'bad': 75,\n",
       " 'get': 76,\n",
       " 'been': 77,\n",
       " 'other': 78,\n",
       " 'do': 79,\n",
       " 'people': 80,\n",
       " 'great': 81,\n",
       " 'will': 82,\n",
       " 'also': 83,\n",
       " 'into': 84,\n",
       " 'because': 85,\n",
       " 'how': 86,\n",
       " 'him': 87,\n",
       " 'don': 88,\n",
       " 'first': 89,\n",
       " 'most': 90,\n",
       " 'made': 91,\n",
       " 'its': 92,\n",
       " 'them': 93,\n",
       " 'then': 94,\n",
       " 'make': 95,\n",
       " 'way': 96,\n",
       " 'could': 97,\n",
       " 'too': 98,\n",
       " 'movies': 99,\n",
       " 'any': 100,\n",
       " 'after': 101,\n",
       " 'characters': 102,\n",
       " 'think': 103,\n",
       " 'watch': 104,\n",
       " 'character': 105,\n",
       " 'films': 106,\n",
       " 'two': 107,\n",
       " 'many': 108,\n",
       " 'seen': 109,\n",
       " 'being': 110,\n",
       " 'love': 111,\n",
       " 'plot': 112,\n",
       " 'never': 113,\n",
       " 'life': 114,\n",
       " 'acting': 115,\n",
       " 'where': 116,\n",
       " 'best': 117,\n",
       " 'did': 118,\n",
       " 'show': 119,\n",
       " 'know': 120,\n",
       " 'little': 121,\n",
       " 'over': 122,\n",
       " 'off': 123,\n",
       " 'ever': 124,\n",
       " 'man': 125,\n",
       " 'does': 126,\n",
       " 'your': 127,\n",
       " 'better': 128,\n",
       " 'end': 129,\n",
       " 'here': 130,\n",
       " 'scene': 131,\n",
       " 'still': 132,\n",
       " 'say': 133,\n",
       " 'these': 134,\n",
       " 'why': 135,\n",
       " 'scenes': 136,\n",
       " 'while': 137,\n",
       " 've': 138,\n",
       " 'm': 139,\n",
       " 'something': 140,\n",
       " 'such': 141,\n",
       " 'go': 142,\n",
       " 'should': 143,\n",
       " 'through': 144,\n",
       " 'back': 145,\n",
       " 'real': 146,\n",
       " 'those': 147,\n",
       " 'now': 148,\n",
       " 'thing': 149,\n",
       " 'watching': 150,\n",
       " 're': 151,\n",
       " 'actors': 152,\n",
       " 'doesn': 153,\n",
       " 'director': 154,\n",
       " 'years': 155,\n",
       " 'didn': 156,\n",
       " 'though': 157,\n",
       " 'funny': 158,\n",
       " 'old': 159,\n",
       " 'another': 160,\n",
       " 'work': 161,\n",
       " 'before': 162,\n",
       " 'actually': 163,\n",
       " 'nothing': 164,\n",
       " 'makes': 165,\n",
       " 'look': 166,\n",
       " 'find': 167,\n",
       " 'going': 168,\n",
       " 'new': 169,\n",
       " 'lot': 170,\n",
       " 'same': 171,\n",
       " 'every': 172,\n",
       " 'few': 173,\n",
       " 'part': 174,\n",
       " 'again': 175,\n",
       " 'world': 176,\n",
       " 'cast': 177,\n",
       " 'down': 178,\n",
       " 'us': 179,\n",
       " 'things': 180,\n",
       " 'want': 181,\n",
       " 'quite': 182,\n",
       " 'pretty': 183,\n",
       " 'horror': 184,\n",
       " 'around': 185,\n",
       " 'seems': 186,\n",
       " 'young': 187,\n",
       " 'take': 188,\n",
       " 'big': 189,\n",
       " 'however': 190,\n",
       " 'got': 191,\n",
       " 'thought': 192,\n",
       " 'fact': 193,\n",
       " 'enough': 194,\n",
       " 'long': 195,\n",
       " 'both': 196,\n",
       " 'give': 197,\n",
       " 'may': 198,\n",
       " 'own': 199,\n",
       " 'comedy': 200,\n",
       " 'd': 201,\n",
       " 'between': 202,\n",
       " 'must': 203,\n",
       " 'right': 204,\n",
       " 'action': 205,\n",
       " 'series': 206,\n",
       " 'music': 207,\n",
       " 'without': 208,\n",
       " 'guy': 209,\n",
       " 'saw': 210,\n",
       " 'times': 211,\n",
       " 'original': 212,\n",
       " 'isn': 213,\n",
       " 'always': 214,\n",
       " 'role': 215,\n",
       " 'come': 216,\n",
       " 'almost': 217,\n",
       " 'gets': 218,\n",
       " 'point': 219,\n",
       " 'interesting': 220,\n",
       " 'done': 221,\n",
       " 'whole': 222,\n",
       " 'least': 223,\n",
       " 'far': 224,\n",
       " 'bit': 225,\n",
       " 'script': 226,\n",
       " 'family': 227,\n",
       " 'minutes': 228,\n",
       " 'feel': 229,\n",
       " 'might': 230,\n",
       " 'll': 231,\n",
       " 'am': 232,\n",
       " 'making': 233,\n",
       " 'anything': 234,\n",
       " 'since': 235,\n",
       " 'last': 236,\n",
       " 'tv': 237,\n",
       " 'probably': 238,\n",
       " 'performance': 239,\n",
       " 'kind': 240,\n",
       " 'away': 241,\n",
       " 'girl': 242,\n",
       " 'yet': 243,\n",
       " 'fun': 244,\n",
       " 'anyone': 245,\n",
       " 'woman': 246,\n",
       " 'worst': 247,\n",
       " 'sure': 248,\n",
       " 'rather': 249,\n",
       " 'hard': 250,\n",
       " 'day': 251,\n",
       " 'each': 252,\n",
       " 'played': 253,\n",
       " 'found': 254,\n",
       " 'looking': 255,\n",
       " 'screen': 256,\n",
       " 'our': 257,\n",
       " 'especially': 258,\n",
       " 'although': 259,\n",
       " 'believe': 260,\n",
       " 'dvd': 261,\n",
       " 'having': 262,\n",
       " 'trying': 263,\n",
       " 'course': 264,\n",
       " 'everything': 265,\n",
       " 'set': 266,\n",
       " 'goes': 267,\n",
       " 'ending': 268,\n",
       " 'put': 269,\n",
       " 'comes': 270,\n",
       " 'maybe': 271,\n",
       " 'place': 272,\n",
       " 'book': 273,\n",
       " 'let': 274,\n",
       " 'three': 275,\n",
       " 'shows': 276,\n",
       " 'worth': 277,\n",
       " 'different': 278,\n",
       " 'actor': 279,\n",
       " 'once': 280,\n",
       " 'sense': 281,\n",
       " 'someone': 282,\n",
       " 'main': 283,\n",
       " 'american': 284,\n",
       " 'reason': 285,\n",
       " 'effects': 286,\n",
       " 'looks': 287,\n",
       " 'play': 288,\n",
       " 'true': 289,\n",
       " 'money': 290,\n",
       " 'watched': 291,\n",
       " 'year': 292,\n",
       " 'wasn': 293,\n",
       " 'everyone': 294,\n",
       " 'job': 295,\n",
       " 'war': 296,\n",
       " 'together': 297,\n",
       " 'high': 298,\n",
       " 'plays': 299,\n",
       " 'audience': 300,\n",
       " 'during': 301,\n",
       " 'instead': 302,\n",
       " 'said': 303,\n",
       " 'half': 304,\n",
       " 'later': 305,\n",
       " 'takes': 306,\n",
       " 'john': 307,\n",
       " 'special': 308,\n",
       " 'night': 309,\n",
       " 'seem': 310,\n",
       " 'beautiful': 311,\n",
       " 'himself': 312,\n",
       " 'left': 313,\n",
       " 'black': 314,\n",
       " 'seeing': 315,\n",
       " 'version': 316,\n",
       " 'wife': 317,\n",
       " 'excellent': 318,\n",
       " 'shot': 319,\n",
       " 'idea': 320,\n",
       " 'house': 321,\n",
       " 'star': 322,\n",
       " 'mind': 323,\n",
       " 'else': 324,\n",
       " 'death': 325,\n",
       " 'father': 326,\n",
       " 'fan': 327,\n",
       " 'budget': 328,\n",
       " 'nice': 329,\n",
       " 'used': 330,\n",
       " 'simply': 331,\n",
       " 'short': 332,\n",
       " 'second': 333,\n",
       " 'completely': 334,\n",
       " 'poor': 335,\n",
       " 'men': 336,\n",
       " 'read': 337,\n",
       " 'along': 338,\n",
       " 'less': 339,\n",
       " 'top': 340,\n",
       " 'home': 341,\n",
       " 'line': 342,\n",
       " 'help': 343,\n",
       " 'dead': 344,\n",
       " 'hollywood': 345,\n",
       " 'either': 346,\n",
       " 'kids': 347,\n",
       " 'boring': 348,\n",
       " 'friends': 349,\n",
       " 'camera': 350,\n",
       " 'enjoy': 351,\n",
       " 'production': 352,\n",
       " 'try': 353,\n",
       " 'wrong': 354,\n",
       " 'classic': 355,\n",
       " 'low': 356,\n",
       " 'given': 357,\n",
       " 'use': 358,\n",
       " 'women': 359,\n",
       " 'need': 360,\n",
       " 'full': 361,\n",
       " 'school': 362,\n",
       " 'until': 363,\n",
       " 'stupid': 364,\n",
       " 'next': 365,\n",
       " 'performances': 366,\n",
       " 'truly': 367,\n",
       " 'rest': 368,\n",
       " 'couple': 369,\n",
       " 'video': 370,\n",
       " 'awful': 371,\n",
       " 'start': 372,\n",
       " 'recommend': 373,\n",
       " 'sex': 374,\n",
       " 'tell': 375,\n",
       " 'terrible': 376,\n",
       " 'mean': 377,\n",
       " 'remember': 378,\n",
       " 'getting': 379,\n",
       " 'came': 380,\n",
       " 'understand': 381,\n",
       " 'won': 382,\n",
       " 'perhaps': 383,\n",
       " 'moments': 384,\n",
       " 'name': 385,\n",
       " 'keep': 386,\n",
       " 'face': 387,\n",
       " 'person': 388,\n",
       " 'itself': 389,\n",
       " 'wonderful': 390,\n",
       " 'human': 391,\n",
       " 'mother': 392,\n",
       " 'style': 393,\n",
       " 'playing': 394,\n",
       " 'small': 395,\n",
       " 'others': 396,\n",
       " 'episode': 397,\n",
       " 'perfect': 398,\n",
       " 'boy': 399,\n",
       " 'stars': 400,\n",
       " 'often': 401,\n",
       " 'head': 402,\n",
       " 'doing': 403,\n",
       " 'early': 404,\n",
       " 'written': 405,\n",
       " 'definitely': 406,\n",
       " 'lines': 407,\n",
       " 'gives': 408,\n",
       " 'dialogue': 409,\n",
       " 'children': 410,\n",
       " 'piece': 411,\n",
       " 'couldn': 412,\n",
       " 'went': 413,\n",
       " 'finally': 414,\n",
       " 'yes': 415,\n",
       " 'case': 416,\n",
       " 'title': 417,\n",
       " 'live': 418,\n",
       " 'absolutely': 419,\n",
       " 'oh': 420,\n",
       " 'friend': 421,\n",
       " 'laugh': 422,\n",
       " 'certainly': 423,\n",
       " 'lost': 424,\n",
       " 'become': 425,\n",
       " 'entertaining': 426,\n",
       " 'liked': 427,\n",
       " 'sort': 428,\n",
       " 'cinema': 429,\n",
       " 'picture': 430,\n",
       " 'worse': 431,\n",
       " 'loved': 432,\n",
       " 'called': 433,\n",
       " 'hope': 434,\n",
       " 'mr': 435,\n",
       " 'guys': 436,\n",
       " 'based': 437,\n",
       " 'felt': 438,\n",
       " 'overall': 439,\n",
       " 'several': 440,\n",
       " 'supposed': 441,\n",
       " 'entire': 442,\n",
       " 'sound': 443,\n",
       " 'drama': 444,\n",
       " 'problem': 445,\n",
       " 'white': 446,\n",
       " 'against': 447,\n",
       " 'beginning': 448,\n",
       " 'dark': 449,\n",
       " 'waste': 450,\n",
       " 'fans': 451,\n",
       " 'game': 452,\n",
       " 'care': 453,\n",
       " 'direction': 454,\n",
       " 'totally': 455,\n",
       " 'humor': 456,\n",
       " 'wanted': 457,\n",
       " 'seemed': 458,\n",
       " 'lead': 459,\n",
       " 'under': 460,\n",
       " 'despite': 461,\n",
       " 'lives': 462,\n",
       " 'evil': 463,\n",
       " 'example': 464,\n",
       " 'final': 465,\n",
       " 'guess': 466,\n",
       " 'already': 467,\n",
       " 'turn': 468,\n",
       " 'throughout': 469,\n",
       " 'becomes': 470,\n",
       " 'b': 471,\n",
       " 'able': 472,\n",
       " 'son': 473,\n",
       " 'killer': 474,\n",
       " 'unfortunately': 475,\n",
       " 'quality': 476,\n",
       " 'history': 477,\n",
       " 'days': 478,\n",
       " 'heart': 479,\n",
       " 'side': 480,\n",
       " 'fine': 481,\n",
       " 'flick': 482,\n",
       " 'michael': 483,\n",
       " 'wants': 484,\n",
       " 'amazing': 485,\n",
       " 'writing': 486,\n",
       " 'horrible': 487,\n",
       " 'today': 488,\n",
       " 'run': 489,\n",
       " 'art': 490,\n",
       " 'town': 491,\n",
       " 'act': 492,\n",
       " 'close': 493,\n",
       " 'kill': 494,\n",
       " 'works': 495,\n",
       " 'god': 496,\n",
       " 'child': 497,\n",
       " 'matter': 498,\n",
       " 'etc': 499,\n",
       " 'past': 500,\n",
       " 'genre': 501,\n",
       " 'viewer': 502,\n",
       " 'tries': 503,\n",
       " 'turns': 504,\n",
       " 'behind': 505,\n",
       " 'enjoyed': 506,\n",
       " 'brilliant': 507,\n",
       " 'car': 508,\n",
       " 'stuff': 509,\n",
       " 'gave': 510,\n",
       " 'eyes': 511,\n",
       " 'parts': 512,\n",
       " 'directed': 513,\n",
       " 'favorite': 514,\n",
       " 'kid': 515,\n",
       " 'late': 516,\n",
       " 'girls': 517,\n",
       " 'city': 518,\n",
       " 'hand': 519,\n",
       " 'expect': 520,\n",
       " 'hour': 521,\n",
       " 'soon': 522,\n",
       " 'themselves': 523,\n",
       " 'actress': 524,\n",
       " 'sometimes': 525,\n",
       " 'obviously': 526,\n",
       " 'thinking': 527,\n",
       " 'myself': 528,\n",
       " 'starts': 529,\n",
       " 'killed': 530,\n",
       " 'daughter': 531,\n",
       " 'stop': 532,\n",
       " 'highly': 533,\n",
       " 'self': 534,\n",
       " 'type': 535,\n",
       " 'decent': 536,\n",
       " 'group': 537,\n",
       " 'says': 538,\n",
       " 'blood': 539,\n",
       " 'voice': 540,\n",
       " 'anyway': 541,\n",
       " 'writer': 542,\n",
       " 'known': 543,\n",
       " 'took': 544,\n",
       " 'happens': 545,\n",
       " 'fight': 546,\n",
       " 'heard': 547,\n",
       " 'except': 548,\n",
       " 'feeling': 549,\n",
       " 'experience': 550,\n",
       " 'coming': 551,\n",
       " 'slow': 552,\n",
       " 'moment': 553,\n",
       " 'stories': 554,\n",
       " 'leave': 555,\n",
       " 'told': 556,\n",
       " 'score': 557,\n",
       " 'extremely': 558,\n",
       " 'police': 559,\n",
       " 'hero': 560,\n",
       " 'violence': 561,\n",
       " 'strong': 562,\n",
       " 'involved': 563,\n",
       " 'chance': 564,\n",
       " 'lack': 565,\n",
       " 'cannot': 566,\n",
       " 'ok': 567,\n",
       " 'hit': 568,\n",
       " 'hilarious': 569,\n",
       " 'happen': 570,\n",
       " 'roles': 571,\n",
       " 'wouldn': 572,\n",
       " 'including': 573,\n",
       " 'hell': 574,\n",
       " 'living': 575,\n",
       " 'brother': 576,\n",
       " 'wonder': 577,\n",
       " 'particularly': 578,\n",
       " 'cool': 579,\n",
       " 'crap': 580,\n",
       " 'simple': 581,\n",
       " 'looked': 582,\n",
       " 'murder': 583,\n",
       " 'cut': 584,\n",
       " 'save': 585,\n",
       " 'age': 586,\n",
       " 'song': 587,\n",
       " 'david': 588,\n",
       " 'obvious': 589,\n",
       " 'gore': 590,\n",
       " 'complete': 591,\n",
       " 'serious': 592,\n",
       " 'happened': 593,\n",
       " 'please': 594,\n",
       " 'james': 595,\n",
       " 'attempt': 596,\n",
       " 'ago': 597,\n",
       " 'robert': 598,\n",
       " 'taken': 599,\n",
       " 'shown': 600,\n",
       " 'english': 601,\n",
       " 'husband': 602,\n",
       " 'released': 603,\n",
       " 'reality': 604,\n",
       " 'seriously': 605,\n",
       " 'opening': 606,\n",
       " 'alone': 607,\n",
       " 'interest': 608,\n",
       " 'across': 609,\n",
       " 'jokes': 610,\n",
       " 'none': 611,\n",
       " 'possible': 612,\n",
       " 'exactly': 613,\n",
       " 'career': 614,\n",
       " 'sad': 615,\n",
       " 'hours': 616,\n",
       " 'number': 617,\n",
       " 'cinematography': 618,\n",
       " 'saying': 619,\n",
       " 'usually': 620,\n",
       " 'documentary': 621,\n",
       " 'view': 622,\n",
       " 'talent': 623,\n",
       " 'running': 624,\n",
       " 'yourself': 625,\n",
       " 'order': 626,\n",
       " 'relationship': 627,\n",
       " 'annoying': 628,\n",
       " 'wish': 629,\n",
       " 'huge': 630,\n",
       " 'shots': 631,\n",
       " 'whose': 632,\n",
       " 'light': 633,\n",
       " 'body': 634,\n",
       " 'taking': 635,\n",
       " 'important': 636,\n",
       " 'power': 637,\n",
       " 'ridiculous': 638,\n",
       " 'female': 639,\n",
       " 'level': 640,\n",
       " 'middle': 641,\n",
       " 'call': 642,\n",
       " 'country': 643,\n",
       " 'four': 644,\n",
       " 'ends': 645,\n",
       " 'word': 646,\n",
       " 'started': 647,\n",
       " 'major': 648,\n",
       " 'opinion': 649,\n",
       " 'turned': 650,\n",
       " 'change': 651,\n",
       " 'usual': 652,\n",
       " 'mostly': 653,\n",
       " 'scary': 654,\n",
       " 'beyond': 655,\n",
       " 'ones': 656,\n",
       " 'room': 657,\n",
       " 'happy': 658,\n",
       " 'silly': 659,\n",
       " 'rating': 660,\n",
       " 'words': 661,\n",
       " 'novel': 662,\n",
       " 'knows': 663,\n",
       " 'somewhat': 664,\n",
       " 'talking': 665,\n",
       " 'knew': 666,\n",
       " 'disappointed': 667,\n",
       " 'strange': 668,\n",
       " 'modern': 669,\n",
       " 'upon': 670,\n",
       " 'apparently': 671,\n",
       " 'non': 672,\n",
       " 'attention': 673,\n",
       " 'single': 674,\n",
       " 'finds': 675,\n",
       " 'jack': 676,\n",
       " 'basically': 677,\n",
       " 'musical': 678,\n",
       " 'o': 679,\n",
       " 'due': 680,\n",
       " 'cheap': 681,\n",
       " 'earth': 682,\n",
       " 'problems': 683,\n",
       " 'television': 684,\n",
       " 'clich': 685,\n",
       " 'miss': 686,\n",
       " 'episodes': 687,\n",
       " 'king': 688,\n",
       " 'thriller': 689,\n",
       " 'clearly': 690,\n",
       " 'local': 691,\n",
       " 'five': 692,\n",
       " 'talk': 693,\n",
       " 'sequence': 694,\n",
       " 'british': 695,\n",
       " 'class': 696,\n",
       " 'events': 697,\n",
       " 'team': 698,\n",
       " 'aren': 699,\n",
       " 'french': 700,\n",
       " 'moving': 701,\n",
       " 'fast': 702,\n",
       " 'tells': 703,\n",
       " 'comic': 704,\n",
       " 'ten': 705,\n",
       " 'die': 706,\n",
       " 'review': 707,\n",
       " 'songs': 708,\n",
       " 'straight': 709,\n",
       " 'entertainment': 710,\n",
       " 'predictable': 711,\n",
       " 'george': 712,\n",
       " 'space': 713,\n",
       " 'future': 714,\n",
       " 'whether': 715,\n",
       " 'add': 716,\n",
       " 'dialog': 717,\n",
       " 'above': 718,\n",
       " 'easily': 719,\n",
       " 'soundtrack': 720,\n",
       " 'enjoyable': 721,\n",
       " 'sets': 722,\n",
       " 'appears': 723,\n",
       " 'near': 724,\n",
       " 'haven': 725,\n",
       " 'romantic': 726,\n",
       " 'hate': 727,\n",
       " 'giving': 728,\n",
       " 'bring': 729,\n",
       " 'supporting': 730,\n",
       " 'lots': 731,\n",
       " 'message': 732,\n",
       " 'similar': 733,\n",
       " 'eye': 734,\n",
       " 'release': 735,\n",
       " 'filmed': 736,\n",
       " 'mention': 737,\n",
       " 'monster': 738,\n",
       " 'rock': 739,\n",
       " 'e': 740,\n",
       " 'falls': 741,\n",
       " 'clear': 742,\n",
       " 'within': 743,\n",
       " 'sister': 744,\n",
       " 'bunch': 745,\n",
       " 'needs': 746,\n",
       " 'suspense': 747,\n",
       " 'dull': 748,\n",
       " 'surprised': 749,\n",
       " 'easy': 750,\n",
       " 'certain': 751,\n",
       " 'tried': 752,\n",
       " 'sequel': 753,\n",
       " 'working': 754,\n",
       " 'showing': 755,\n",
       " 'theater': 756,\n",
       " 'ways': 757,\n",
       " 'theme': 758,\n",
       " 'sorry': 759,\n",
       " 'parents': 760,\n",
       " 'among': 761,\n",
       " 'storyline': 762,\n",
       " 'named': 763,\n",
       " 'fall': 764,\n",
       " 'effort': 765,\n",
       " 'stay': 766,\n",
       " 'minute': 767,\n",
       " 'feature': 768,\n",
       " 'stand': 769,\n",
       " 'tale': 770,\n",
       " 'gone': 771,\n",
       " 'dog': 772,\n",
       " 'th': 773,\n",
       " 'lady': 774,\n",
       " 'typical': 775,\n",
       " 'comments': 776,\n",
       " 'mystery': 777,\n",
       " 'using': 778,\n",
       " 'buy': 779,\n",
       " 'dr': 780,\n",
       " 'oscar': 781,\n",
       " 'deal': 782,\n",
       " 'editing': 783,\n",
       " 'richard': 784,\n",
       " 'doubt': 785,\n",
       " 'fantastic': 786,\n",
       " 'feels': 787,\n",
       " 'subject': 788,\n",
       " 'peter': 789,\n",
       " 'avoid': 790,\n",
       " 'realistic': 791,\n",
       " 'check': 792,\n",
       " 'kept': 793,\n",
       " 'general': 794,\n",
       " 'greatest': 795,\n",
       " 'okay': 796,\n",
       " 'nearly': 797,\n",
       " 'viewing': 798,\n",
       " 'viewers': 799,\n",
       " 'famous': 800,\n",
       " 'points': 801,\n",
       " 'herself': 802,\n",
       " 'elements': 803,\n",
       " 'imagine': 804,\n",
       " 'paul': 805,\n",
       " 'crime': 806,\n",
       " 'means': 807,\n",
       " 'rent': 808,\n",
       " 'actual': 809,\n",
       " 'form': 810,\n",
       " 'follow': 811,\n",
       " 'red': 812,\n",
       " 'tom': 813,\n",
       " 'material': 814,\n",
       " 'period': 815,\n",
       " 'believable': 816,\n",
       " 'move': 817,\n",
       " 'brought': 818,\n",
       " 'forget': 819,\n",
       " 'somehow': 820,\n",
       " 'begins': 821,\n",
       " 'animation': 822,\n",
       " 'doctor': 823,\n",
       " 'reviews': 824,\n",
       " 'leads': 825,\n",
       " 'imdb': 826,\n",
       " 'hear': 827,\n",
       " 'america': 828,\n",
       " 'surprise': 829,\n",
       " 'weak': 830,\n",
       " 'figure': 831,\n",
       " 'open': 832,\n",
       " 'sit': 833,\n",
       " 'deep': 834,\n",
       " 'average': 835,\n",
       " 'fi': 836,\n",
       " 'killing': 837,\n",
       " 'atmosphere': 838,\n",
       " 'sequences': 839,\n",
       " 'learn': 840,\n",
       " 'wait': 841,\n",
       " 'sci': 842,\n",
       " 'premise': 843,\n",
       " 'expected': 844,\n",
       " 'eventually': 845,\n",
       " 'whatever': 846,\n",
       " 'dance': 847,\n",
       " 'york': 848,\n",
       " 'note': 849,\n",
       " 'particular': 850,\n",
       " 'indeed': 851,\n",
       " 'boys': 852,\n",
       " 'lame': 853,\n",
       " 'box': 854,\n",
       " 'poorly': 855,\n",
       " 'situation': 856,\n",
       " 'third': 857,\n",
       " 'truth': 858,\n",
       " 'hot': 859,\n",
       " 'society': 860,\n",
       " 'shame': 861,\n",
       " 'free': 862,\n",
       " 'season': 863,\n",
       " 'decided': 864,\n",
       " 'lee': 865,\n",
       " 'romance': 866,\n",
       " 'needed': 867,\n",
       " 'difficult': 868,\n",
       " 'western': 869,\n",
       " 'acted': 870,\n",
       " 'crew': 871,\n",
       " 'gay': 872,\n",
       " 'leaves': 873,\n",
       " 'unless': 874,\n",
       " 'de': 875,\n",
       " 'possibly': 876,\n",
       " 'emotional': 877,\n",
       " 'footage': 878,\n",
       " 'forced': 879,\n",
       " 'credits': 880,\n",
       " 'reading': 881,\n",
       " 'sexual': 882,\n",
       " 'memorable': 883,\n",
       " 'begin': 884,\n",
       " 'became': 885,\n",
       " 'meet': 886,\n",
       " 'write': 887,\n",
       " 'question': 888,\n",
       " 'air': 889,\n",
       " 'male': 890,\n",
       " 'otherwise': 891,\n",
       " 'nature': 892,\n",
       " 'street': 893,\n",
       " 'meets': 894,\n",
       " 'beauty': 895,\n",
       " 'plus': 896,\n",
       " 'superb': 897,\n",
       " 'masterpiece': 898,\n",
       " 'hands': 899,\n",
       " 'cheesy': 900,\n",
       " 'features': 901,\n",
       " 'effect': 902,\n",
       " 'screenplay': 903,\n",
       " 'whom': 904,\n",
       " 'perfectly': 905,\n",
       " 'stage': 906,\n",
       " 'interested': 907,\n",
       " 'weird': 908,\n",
       " 'forward': 909,\n",
       " 'laughs': 910,\n",
       " 'previous': 911,\n",
       " 'japanese': 912,\n",
       " 'comment': 913,\n",
       " 'sounds': 914,\n",
       " 'badly': 915,\n",
       " 'cop': 916,\n",
       " 'nor': 917,\n",
       " 'personal': 918,\n",
       " 'inside': 919,\n",
       " 'crazy': 920,\n",
       " 'disney': 921,\n",
       " 'quickly': 922,\n",
       " 'result': 923,\n",
       " 'battle': 924,\n",
       " 'total': 925,\n",
       " 'keeps': 926,\n",
       " 'towards': 927,\n",
       " 'baby': 928,\n",
       " 'girlfriend': 929,\n",
       " 'mark': 930,\n",
       " 'worked': 931,\n",
       " 'joe': 932,\n",
       " 'background': 933,\n",
       " 'fire': 934,\n",
       " 'setting': 935,\n",
       " 'island': 936,\n",
       " 'incredibly': 937,\n",
       " 'earlier': 938,\n",
       " 'writers': 939,\n",
       " 'mess': 940,\n",
       " 'business': 941,\n",
       " 'unique': 942,\n",
       " 'directors': 943,\n",
       " 'copy': 944,\n",
       " 'dramatic': 945,\n",
       " 'powerful': 946,\n",
       " 'dumb': 947,\n",
       " 'rate': 948,\n",
       " 'c': 949,\n",
       " 'older': 950,\n",
       " 'bill': 951,\n",
       " 'dream': 952,\n",
       " 'realize': 953,\n",
       " 'water': 954,\n",
       " 'directing': 955,\n",
       " 'following': 956,\n",
       " 'pay': 957,\n",
       " 'creepy': 958,\n",
       " 'development': 959,\n",
       " 'plenty': 960,\n",
       " 'appear': 961,\n",
       " 'front': 962,\n",
       " 'various': 963,\n",
       " 'ask': 964,\n",
       " 'joke': 965,\n",
       " 'brings': 966,\n",
       " 'rich': 967,\n",
       " 'political': 968,\n",
       " 'fairly': 969,\n",
       " 'leading': 970,\n",
       " 'admit': 971,\n",
       " 'apart': 972,\n",
       " 'portrayed': 973,\n",
       " 'cover': 974,\n",
       " 'gun': 975,\n",
       " 'reasons': 976,\n",
       " 'party': 977,\n",
       " 'era': 978,\n",
       " 'spent': 979,\n",
       " 'zombie': 980,\n",
       " 'telling': 981,\n",
       " 'present': 982,\n",
       " 'fighting': 983,\n",
       " 'outside': 984,\n",
       " 'william': 985,\n",
       " 'deserves': 986,\n",
       " 'break': 987,\n",
       " 'secret': 988,\n",
       " 'wasted': 989,\n",
       " 'fails': 990,\n",
       " 'success': 991,\n",
       " 'twist': 992,\n",
       " 'meant': 993,\n",
       " 'list': 994,\n",
       " 'manages': 995,\n",
       " 'return': 996,\n",
       " 'cute': 997,\n",
       " 'agree': 998,\n",
       " 'missing': 999,\n",
       " 'ended': 1000,\n",
       " ...}"
      ]
     },
     "execution_count": 29,
     "metadata": {},
     "output_type": "execute_result"
    }
   ],
   "source": [
    "tokenizer.word_index"
   ]
  },
  {
   "cell_type": "markdown",
   "metadata": {},
   "source": [
    "## tokenize the input reviews"
   ]
  },
  {
   "cell_type": "code",
   "execution_count": 31,
   "metadata": {},
   "outputs": [],
   "source": [
    "reviews_tokenized = tokenizer.texts_to_sequences(reviews)\n",
    "# len(reviews_tokenized[0])"
   ]
  },
  {
   "cell_type": "markdown",
   "metadata": {},
   "source": [
    "## padding"
   ]
  },
  {
   "cell_type": "code",
   "execution_count": 32,
   "metadata": {},
   "outputs": [
    {
     "data": {
      "text/plain": [
       "(49582, 176)"
      ]
     },
     "execution_count": 32,
     "metadata": {},
     "output_type": "execute_result"
    }
   ],
   "source": [
    "# max number of words in each review (usually depends on the median/mean/mode/min/max number of words per review)\n",
    "max_len = int(reviews.apply(lambda x: len(x.split())).median())\n",
    "reviews_tokenized_padded = pad_sequences(reviews_tokenized, maxlen=max_len, padding='post', truncating='post')\n",
    "reviews_tokenized_padded.shape"
   ]
  },
  {
   "cell_type": "code",
   "execution_count": 33,
   "metadata": {},
   "outputs": [
    {
     "data": {
      "text/plain": [
       "array([[  29,    5,    2, ...,    6,    2,  193],\n",
       "       [   4,  390,  121, ...,    0,    0,    0],\n",
       "       [  10,  192,   11, ...,    0,    0,    0],\n",
       "       ...,\n",
       "       [  10,  232,    4, ...,    3,    2,   64],\n",
       "       [  10,  139,  168, ...,   30, 5274,  178],\n",
       "       [  57,   29, 5822, ...,    0,    0,    0]])"
      ]
     },
     "execution_count": 33,
     "metadata": {},
     "output_type": "execute_result"
    }
   ],
   "source": [
    "reviews_tokenized_padded"
   ]
  },
  {
   "cell_type": "markdown",
   "metadata": {},
   "source": [
    "# One-Hot Encoding on target variable"
   ]
  },
  {
   "cell_type": "code",
   "execution_count": 34,
   "metadata": {},
   "outputs": [
    {
     "data": {
      "text/plain": [
       "(49582, 2)"
      ]
     },
     "execution_count": 34,
     "metadata": {},
     "output_type": "execute_result"
    }
   ],
   "source": [
    "ohe = OneHotEncoder(sparse=False)\n",
    "sentiment_encoded = ohe.fit_transform(df[['sentiment']])\n",
    "sentiment_encoded.shape"
   ]
  },
  {
   "cell_type": "code",
   "execution_count": 35,
   "metadata": {},
   "outputs": [
    {
     "data": {
      "text/plain": [
       "array([[0., 1.],\n",
       "       [0., 1.],\n",
       "       [0., 1.],\n",
       "       ...,\n",
       "       [1., 0.],\n",
       "       [1., 0.],\n",
       "       [1., 0.]])"
      ]
     },
     "execution_count": 35,
     "metadata": {},
     "output_type": "execute_result"
    }
   ],
   "source": [
    "sentiment_encoded"
   ]
  },
  {
   "cell_type": "code",
   "execution_count": 36,
   "metadata": {},
   "outputs": [
    {
     "data": {
      "text/plain": [
       "[array(['negative', 'positive'], dtype=object)]"
      ]
     },
     "execution_count": 36,
     "metadata": {},
     "output_type": "execute_result"
    }
   ],
   "source": [
    "ohe.categories_"
   ]
  },
  {
   "cell_type": "markdown",
   "metadata": {},
   "source": [
    "# Train-test split the data"
   ]
  },
  {
   "cell_type": "code",
   "execution_count": 38,
   "metadata": {},
   "outputs": [],
   "source": [
    "X_train, X_test, y_train, y_test = train_test_split(reviews_tokenized_padded, sentiment_encoded, test_size=0.2, random_state=130922)"
   ]
  },
  {
   "cell_type": "markdown",
   "metadata": {},
   "source": [
    "# Model creation"
   ]
  },
  {
   "cell_type": "markdown",
   "metadata": {},
   "source": [
    "## create model"
   ]
  },
  {
   "cell_type": "code",
   "execution_count": 41,
   "metadata": {},
   "outputs": [
    {
     "name": "stdout",
     "output_type": "stream",
     "text": [
      "Model: \"functional_5\"\n",
      "_________________________________________________________________\n",
      "Layer (type)                 Output Shape              Param #   \n",
      "=================================================================\n",
      "input_3 (InputLayer)         [(None, 176)]             0         \n",
      "_________________________________________________________________\n",
      "embedding_2 (Embedding)      (None, 176, 64)           640000    \n",
      "_________________________________________________________________\n",
      "bidirectional_2 (Bidirection (None, 176, 128)          66048     \n",
      "_________________________________________________________________\n",
      "dropout_6 (Dropout)          (None, 176, 128)          0         \n",
      "_________________________________________________________________\n",
      "lstm_5 (LSTM)                (None, 128)               131584    \n",
      "_________________________________________________________________\n",
      "dropout_7 (Dropout)          (None, 128)               0         \n",
      "_________________________________________________________________\n",
      "dense_4 (Dense)              (None, 128)               16512     \n",
      "_________________________________________________________________\n",
      "dropout_8 (Dropout)          (None, 128)               0         \n",
      "_________________________________________________________________\n",
      "dense_5 (Dense)              (None, 2)                 258       \n",
      "=================================================================\n",
      "Total params: 854,402\n",
      "Trainable params: 854,402\n",
      "Non-trainable params: 0\n",
      "_________________________________________________________________\n"
     ]
    }
   ],
   "source": [
    "input_shape = reviews_tokenized_padded.shape[-1]\n",
    "n_target = sentiment_encoded.shape[-1]\n",
    "embedding_dim = 64\n",
    "\n",
    "model = create_model(input_shape=(input_shape,), \n",
    "                     n=128, \n",
    "                     drop_rate=0.2, \n",
    "                     n_target=n_target, \n",
    "                     embedding_dim=embedding_dim, \n",
    "                     vocab_size=vocab_size)\n",
    "model.summary()"
   ]
  },
  {
   "cell_type": "markdown",
   "metadata": {},
   "source": [
    "## compile model"
   ]
  },
  {
   "cell_type": "code",
   "execution_count": 42,
   "metadata": {},
   "outputs": [],
   "source": [
    "model.compile(optimizer='adam', loss='categorical_crossentropy', metrics='acc')"
   ]
  },
  {
   "cell_type": "markdown",
   "metadata": {},
   "source": [
    "## plot model"
   ]
  },
  {
   "cell_type": "code",
   "execution_count": 28,
   "metadata": {},
   "outputs": [
    {
     "data": {
      "image/png": "[encoded data removed]",
      "text/plain": [
       "<IPython.core.display.Image object>"
      ]
     },
     "execution_count": 28,
     "metadata": {},
     "output_type": "execute_result"
    }
   ],
   "source": [
    "plot_model(model, show_shapes=True, show_layer_names=True)"
   ]
  },
  {
   "cell_type": "markdown",
   "metadata": {},
   "source": [
    "# Callbacks"
   ]
  },
  {
   "cell_type": "code",
   "execution_count": 43,
   "metadata": {},
   "outputs": [],
   "source": [
    "tensorboard_callback = TensorBoard(log_dir=LOG_PATH)\n",
    "early_stopping_callback = EarlyStopping(monitor='loss', \n",
    "                                        patience=3, \n",
    "                                        verbose=1, \n",
    "                                        mode='min')"
   ]
  },
  {
   "cell_type": "markdown",
   "metadata": {},
   "source": [
    "# Train the model and save the History object"
   ]
  },
  {
   "cell_type": "code",
   "execution_count": 44,
   "metadata": {},
   "outputs": [
    {
     "name": "stdout",
     "output_type": "stream",
     "text": [
      "Epoch 1/10\n",
      "  1/310 [..............................] - ETA: 0s - loss: 0.6949 - acc: 0.4531WARNING:tensorflow:From c:\\Users\\rhmnnmhmd\\.conda\\envs\\tf_env\\lib\\site-packages\\tensorflow\\python\\ops\\summary_ops_v2.py:1277: stop (from tensorflow.python.eager.profiler) is deprecated and will be removed after 2020-07-01.\n",
      "Instructions for updating:\n",
      "use `tf.profiler.experimental.stop` instead.\n",
      "310/310 [==============================] - 298s 961ms/step - loss: 0.4728 - acc: 0.7567 - val_loss: 0.3289 - val_acc: 0.8625\n",
      "Epoch 2/10\n",
      "310/310 [==============================] - 270s 872ms/step - loss: 0.2789 - acc: 0.8913 - val_loss: 0.3618 - val_acc: 0.8604\n",
      "Epoch 3/10\n",
      "310/310 [==============================] - 287s 927ms/step - loss: 0.2351 - acc: 0.9109 - val_loss: 0.3370 - val_acc: 0.8576\n",
      "Epoch 4/10\n",
      "310/310 [==============================] - 286s 924ms/step - loss: 0.1825 - acc: 0.9331 - val_loss: 0.4087 - val_acc: 0.8551\n",
      "Epoch 5/10\n",
      "310/310 [==============================] - 290s 935ms/step - loss: 0.1489 - acc: 0.9474 - val_loss: 0.5124 - val_acc: 0.8487\n",
      "Epoch 6/10\n",
      "310/310 [==============================] - 284s 917ms/step - loss: 0.1234 - acc: 0.9578 - val_loss: 0.4940 - val_acc: 0.8454\n",
      "Epoch 7/10\n",
      "310/310 [==============================] - 310s 999ms/step - loss: 0.1178 - acc: 0.9602 - val_loss: 0.5484 - val_acc: 0.8432\n",
      "Epoch 8/10\n",
      "310/310 [==============================] - 296s 956ms/step - loss: 0.0903 - acc: 0.9698 - val_loss: 0.6348 - val_acc: 0.8418\n",
      "Epoch 9/10\n",
      "310/310 [==============================] - 292s 942ms/step - loss: 0.0735 - acc: 0.9767 - val_loss: 0.5944 - val_acc: 0.8410\n",
      "Epoch 10/10\n",
      "310/310 [==============================] - 292s 943ms/step - loss: 0.0752 - acc: 0.9762 - val_loss: 0.6036 - val_acc: 0.8520\n"
     ]
    }
   ],
   "source": [
    "model_hist = model.fit(X_train, \n",
    "                       y_train, \n",
    "                       epochs=10,\n",
    "                       batch_size=128,\n",
    "                       validation_data=(X_test, y_test),\n",
    "                       callbacks=[tensorboard_callback, early_stopping_callback])"
   ]
  },
  {
   "cell_type": "markdown",
   "metadata": {},
   "source": [
    "# Plot loss and metrics"
   ]
  },
  {
   "cell_type": "code",
   "execution_count": 45,
   "metadata": {},
   "outputs": [
    {
     "data": {
      "image/png": "[encoded data removed]",
      "text/plain": [
       "<Figure size 720x360 with 2 Axes>"
      ]
     },
     "metadata": {
      "needs_background": "light"
     },
     "output_type": "display_data"
    }
   ],
   "source": [
    "train_loss = model_hist.history['loss']\n",
    "train_metric = model_hist.history['acc']\n",
    "test_loss = model_hist.history['val_loss']\n",
    "test_metric = model_hist.history['val_acc']\n",
    "\n",
    "fig, ax = plt.subplots(1, 2, figsize=(10, 5))\n",
    "fig.suptitle('Training/Test Loss and Metric vs Epochs')\n",
    "\n",
    "ax[0].plot(train_loss, label='training loss')\n",
    "ax[0].plot(test_loss, label='test loss')\n",
    "ax[0].set_xlabel('epochs')\n",
    "ax[0].set_ylabel('categorical cross entropy loss')\n",
    "ax[0].legend()\n",
    "\n",
    "ax[1].plot(train_metric, label='training accuracy')\n",
    "ax[1].plot(test_metric, label='test accuracy')\n",
    "ax[1].set_xlabel('epochs')\n",
    "ax[1].set_ylabel('accuracy')\n",
    "ax[1].legend()\n",
    "\n",
    "plt.tight_layout()\n",
    "plt.show()"
   ]
  },
  {
   "cell_type": "markdown",
   "metadata": {},
   "source": [
    "# Evaluate on test set"
   ]
  },
  {
   "cell_type": "code",
   "execution_count": 46,
   "metadata": {},
   "outputs": [
    {
     "name": "stdout",
     "output_type": "stream",
     "text": [
      "310/310 [==============================] - 20s 66ms/step - loss: 0.6036 - acc: 0.8520 0s - loss: 0.6034 - ac\n"
     ]
    },
    {
     "data": {
      "text/plain": [
       "[0.6036070585250854, 0.8519713878631592]"
      ]
     },
     "execution_count": 46,
     "metadata": {},
     "output_type": "execute_result"
    }
   ],
   "source": [
    "model.evaluate(X_test, y_test)"
   ]
  },
  {
   "cell_type": "markdown",
   "metadata": {},
   "source": [
    "# Predictions"
   ]
  },
  {
   "cell_type": "code",
   "execution_count": 50,
   "metadata": {},
   "outputs": [
    {
     "data": {
      "text/plain": [
       "array(['positive', 'positive', 'negative', ..., 'positive', 'negative',\n",
       "       'negative'], dtype=object)"
      ]
     },
     "execution_count": 50,
     "metadata": {},
     "output_type": "execute_result"
    }
   ],
   "source": [
    "# predict output\n",
    "y_pred = model.predict(X_test)\n",
    "y_pred = np.argmax(y_pred, axis=1)\n",
    "\n",
    "# vectorize conv(x) function\n",
    "conv = np.vectorize(conv)\n",
    "\n",
    "# convert to 'negative' or 'positive'\n",
    "y_pred_decoded = conv(y_pred).astype(object)\n",
    "y_pred_decoded"
   ]
  },
  {
   "cell_type": "markdown",
   "metadata": {},
   "source": [
    "## decode test set from [0, 1] to ['negative', 'positive']"
   ]
  },
  {
   "cell_type": "code",
   "execution_count": 48,
   "metadata": {},
   "outputs": [
    {
     "data": {
      "text/plain": [
       "array(['positive', 'positive', 'negative', ..., 'positive', 'positive',\n",
       "       'negative'], dtype=object)"
      ]
     },
     "execution_count": 48,
     "metadata": {},
     "output_type": "execute_result"
    }
   ],
   "source": [
    "y_test_decoded = ohe.inverse_transform(y_test)\n",
    "y_test_decoded = y_test_decoded[:,0]\n",
    "y_test_decoded"
   ]
  },
  {
   "cell_type": "markdown",
   "metadata": {},
   "source": [
    "## classification report"
   ]
  },
  {
   "cell_type": "code",
   "execution_count": 51,
   "metadata": {},
   "outputs": [
    {
     "name": "stdout",
     "output_type": "stream",
     "text": [
      "              precision    recall  f1-score   support\n",
      "\n",
      "    negative       0.86      0.84      0.85      4926\n",
      "    positive       0.85      0.86      0.85      4991\n",
      "\n",
      "    accuracy                           0.85      9917\n",
      "   macro avg       0.85      0.85      0.85      9917\n",
      "weighted avg       0.85      0.85      0.85      9917\n",
      "\n"
     ]
    }
   ],
   "source": [
    "report = classification_report(y_test_decoded, y_pred_decoded)\n",
    "print(report)"
   ]
  },
  {
   "cell_type": "markdown",
   "metadata": {},
   "source": [
    "## confusion matrix plot"
   ]
  },
  {
   "cell_type": "code",
   "execution_count": 52,
   "metadata": {},
   "outputs": [
    {
     "data": {
      "image/png": "[encoded data removed]",
      "text/plain": [
       "<Figure size 720x360 with 2 Axes>"
      ]
     },
     "metadata": {
      "needs_background": "light"
     },
     "output_type": "display_data"
    }
   ],
   "source": [
    "fig, ax = plt.subplots(1, 1, figsize=(10, 5))\n",
    "ConfusionMatrixDisplay.from_predictions(y_test_decoded, \n",
    "                                        y_pred_decoded, \n",
    "                                        normalize='all', \n",
    "                                        ax=ax)\n",
    "plt.tight_layout()\n",
    "plt.show()"
   ]
  },
  {
   "cell_type": "markdown",
   "metadata": {},
   "source": [
    "# Custom input testing"
   ]
  },
  {
   "cell_type": "code",
   "execution_count": 54,
   "metadata": {},
   "outputs": [
    {
     "name": "stderr",
     "output_type": "stream",
     "text": [
      "C:\\Users\\rhmnnmhmd\\AppData\\Local\\Temp\\ipykernel_5404\\3220484806.py:4: FutureWarning: The default value of regex will change from True to False in a future version.\n",
      "  input_review = input_review.str.replace('<.*?>', ' ')\n",
      "C:\\Users\\rhmnnmhmd\\AppData\\Local\\Temp\\ipykernel_5404\\3220484806.py:5: FutureWarning: The default value of regex will change from True to False in a future version.\n",
      "  input_review = input_review.str.replace('[^a-zA-Z]', ' ')\n"
     ]
    },
    {
     "name": "stdout",
     "output_type": "stream",
     "text": [
      "Your review have negative sentiment\n"
     ]
    }
   ],
   "source": [
    "my_review = input('Give your review: ')\n",
    "\n",
    "input_review = pd.Series([my_review], name='review')\n",
    "input_review = input_review.str.replace('<.*?>', ' ')\n",
    "input_review = input_review.str.replace('[^a-zA-Z]', ' ')\n",
    "input_review = input_review.str.lower()\n",
    "\n",
    "input_review_tokenized = tokenizer.texts_to_sequences(input_review)\n",
    "\n",
    "max_len = int(reviews.apply(lambda x: len(x.split())).median()) # this value is 176 for now\n",
    "input_review_tokenized_padded = pad_sequences(input_review_tokenized, maxlen=max_len, padding='post', truncating='post')\n",
    "\n",
    "predicted_sentiment = model.predict(input_review_tokenized_padded)\n",
    "predicted_sentiment = np.argmax(predicted_sentiment, axis=1)\n",
    "predicted_sentiment_decoded = conv(predicted_sentiment).astype(object)\n",
    "\n",
    "print(f'Your review have {predicted_sentiment_decoded[0]} sentiment')"
   ]
  },
  {
   "cell_type": "markdown",
   "metadata": {},
   "source": [
    "# Saving objects"
   ]
  },
  {
   "cell_type": "markdown",
   "metadata": {},
   "source": [
    "## Save the LSTM model"
   ]
  },
  {
   "cell_type": "code",
   "execution_count": null,
   "metadata": {},
   "outputs": [],
   "source": [
    "MODEL_PATH = os.path.join(os.getcwd(), 'model', 'model.h5')\n",
    "model.save(MODEL_PATH)"
   ]
  },
  {
   "cell_type": "markdown",
   "metadata": {},
   "source": [
    "## Save the One-Hot Encoder"
   ]
  },
  {
   "cell_type": "code",
   "execution_count": null,
   "metadata": {},
   "outputs": [],
   "source": [
    "OHE_PATH = os.path.join(os.getcwd(), 'model', 'ohe.pkl')\n",
    "\n",
    "with open(OHE_PATH, 'wb') as file:\n",
    "    pickle.dump(ohe, file)   "
   ]
  }
 ],
 "metadata": {
  "kernelspec": {
   "display_name": "Python 3.8.13 ('tf_env')",
   "language": "python",
   "name": "python3"
  },
  "language_info": {
   "codemirror_mode": {
    "name": "ipython",
    "version": 3
   },
   "file_extension": ".py",
   "mimetype": "text/x-python",
   "name": "python",
   "nbconvert_exporter": "python",
   "pygments_lexer": "ipython3",
   "version": "3.8.13"
  },
  "orig_nbformat": 4,
  "vscode": {
   "interpreter": {
    "hash": "c6fc66f71a4b96d3bac3616c54eafe1eb1c4acefbef9e7afe38817145388afa6"
   }
  }
 },
 "nbformat": 4,
 "nbformat_minor": 2
}
